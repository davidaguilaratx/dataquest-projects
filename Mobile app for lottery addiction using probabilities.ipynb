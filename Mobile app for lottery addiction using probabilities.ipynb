{
 "cells": [
  {
   "cell_type": "markdown",
   "metadata": {
    "collapsed": true
   },
   "source": [
    "# A Mobile App for Lottery Addiction\n",
    "\n",
    "In this project we will play the role of data scientist consultant for a medical institute that aims to help lottery addicts better estimate their chances of winning. The institute has a team of engineers that will build the app, but they need us to create the logical core of the app and calculate probabilities.\n",
    "\n",
    "Many people start playing the lottery for fun, but for some this activity turns into a habit which eventually escalates into addiction. Like other compulsive gamblers, lottery addicts soon begin spending from their savings and loans, they start to accumulate debts, and eventually engage in desperate behaviors like theft.\n",
    "\n",
    "For the first version of the app, they want us to focus on the [6/49 lottery](https://en.wikipedia.org/wiki/Lotto_6/49) and build functions that enable users to answer questions like:\n",
    "\n",
    "* What is the probability of winning the big prize with a sigle ticket?\n",
    "* What is the probability of winning the big prize if we play 40 different tickets (or any other number)?\n",
    "* What is the probability of having at least five (or four, or three, or two) winning numbers on a single ticket?\n",
    "\n",
    "The institute also wants us to consider historical data coming from the national 6/49 lottery game in Canada. [The data set](https://www.kaggle.com/datascienceai/lottery-dataset) has data for 3,665 drawings, dating from 1982 to 2018."
   ]
  },
  {
   "cell_type": "code",
   "execution_count": 1,
   "metadata": {
    "collapsed": false
   },
   "outputs": [],
   "source": [
    "# Import libraries we'll use\n",
    "import pandas as pd\n",
    "import numpy as np\n",
    "import random\n",
    "import math\n",
    "import matplotlib.pyplot as plt\n",
    "import seaborn as sns\n",
    "\n",
    "# Display graphs in notebook\n",
    "%matplotlib inline"
   ]
  },
  {
   "cell_type": "markdown",
   "metadata": {},
   "source": [
    "## Core functions\n",
    "\n",
    "We'll be using these functions regularly to make probability calculations:\n",
    "* `factorial()` to calculate factorials\n",
    "* `combinations()` to calculate combinations"
   ]
  },
  {
   "cell_type": "code",
   "execution_count": 2,
   "metadata": {
    "collapsed": true
   },
   "outputs": [],
   "source": [
    "# Function to calculate the factorial of any integer n\n",
    "def factorial(n):\n",
    "    answer = 1\n",
    "    for i in range(n,0,-1):\n",
    "        answer *= i\n",
    "    return int(answer)\n",
    "\n",
    "# Function to calculate the number of unique combinations for only k objects from a group of n objects\n",
    "def combinations(n, k):\n",
    "    return int(factorial(n) / (factorial(k)*factorial(n-k)))"
   ]
  },
  {
   "cell_type": "markdown",
   "metadata": {},
   "source": [
    "## One ticket probability\n",
    "\n",
    "For the first version of the app, we want players to be able to calculate the probability of winning the big prize with the various numbers they play on a single ticket (for each ticket a player chooses six numbers out of 49). So, we'll start by building a function that calculates the probability of winning the big prize for any given ticket.\n",
    "\n",
    "We discussed with the engineering team of the medical institute, and they told us we need to be aware of the following details when we write the function:\n",
    "* Inside the app, the user inputs six different numbers from 1 to 49.\n",
    "* Under the hood, the six numbers will come as a Python list, which will serve as the single input to our function.\n",
    "*The engineering team wants the function to print the probability value in a friendly way — in a way that people without any probability training are able to understand.\n",
    "\n",
    "We will write the function and then use a random ticket number generator function, `lottery_ticket()`, to test our new `one_ticket_probability()` function."
   ]
  },
  {
   "cell_type": "code",
   "execution_count": 3,
   "metadata": {
    "collapsed": false,
    "scrolled": true
   },
   "outputs": [
    {
     "name": "stdout",
     "output_type": "stream",
     "text": [
      "Your lottery numbers, [32, 40, 49, 8, 48, 3], have a 0.0000072% chance to win the big prize.\n",
      "In other words, you have a 1 in 13,983,816 chance to win.\n",
      "\n",
      "\n",
      "Your lottery numbers, [28, 21, 37, 29, 22, 6], have a 0.0000072% chance to win the big prize.\n",
      "In other words, you have a 1 in 13,983,816 chance to win.\n",
      "\n",
      "\n",
      "Your lottery numbers, [10, 49, 44, 41, 11, 19], have a 0.0000072% chance to win the big prize.\n",
      "In other words, you have a 1 in 13,983,816 chance to win.\n"
     ]
    }
   ],
   "source": [
    "# Function that takes in a list of six unique numbers and prints the probability of winning\n",
    "def one_ticket_probability(six_numbers):\n",
    "    total_outcomes = combinations(49, 6)\n",
    "    probability = 1 / total_outcomes\n",
    "    percentage = probability * 100\n",
    "    \n",
    "    print('''Your lottery numbers, {}, have a {:.7f}% chance to win the big prize.\n",
    "In other words, you have a 1 in {:,} chance to win.'''.format(six_numbers, percentage, total_outcomes))\n",
    "\n",
    "# Function for generating a random six-number lottery ticket\n",
    "def lottery_ticket():\n",
    "    ticket = []\n",
    "    while len(ticket) < 6:\n",
    "        ticket.append(random.randint(1,49))\n",
    "    return ticket\n",
    "\n",
    "# Lottery ticket tests\n",
    "test_1 = lottery_ticket()\n",
    "test_2 = lottery_ticket()\n",
    "test_3 = lottery_ticket()\n",
    "\n",
    "# Our test runs\n",
    "one_ticket_probability(test_1)\n",
    "print('\\n')\n",
    "one_ticket_probability(test_2)\n",
    "print('\\n')\n",
    "one_ticket_probability(test_3)"
   ]
  },
  {
   "cell_type": "markdown",
   "metadata": {},
   "source": [
    "Each ticket combination will have the same probability, so our output looks like it should.\n",
    "\n",
    "## Exploring historical Canada lottery ticket data\n",
    "\n",
    "For the first version of the app, users should also be able to compare their ticket against the historical lottery data in Canada and determine whether they would have ever won by now.\n",
    "\n",
    "We'll explore the historical data coming from the Canada 6/49 lottery. The data set can be downloaded from [Kaggle](https://www.kaggle.com/datascienceai/lottery-dataset). \n",
    "\n",
    "Lets take a look."
   ]
  },
  {
   "cell_type": "code",
   "execution_count": 4,
   "metadata": {
    "collapsed": false,
    "scrolled": true
   },
   "outputs": [
    {
     "name": "stdout",
     "output_type": "stream",
     "text": [
      "The dataset has 3665 rows and 11 columns.\n"
     ]
    }
   ],
   "source": [
    "# Read in the lottery history data and display the number of rows and columns\n",
    "lotto_hist = pd.read_csv('649.csv')\n",
    "print('The dataset has ' + str(lotto_hist.shape[0]) + ' rows and ' + str(lotto_hist.shape[1]) + ' columns.')"
   ]
  },
  {
   "cell_type": "code",
   "execution_count": 5,
   "metadata": {
    "collapsed": false,
    "scrolled": false
   },
   "outputs": [
    {
     "data": {
      "text/html": [
       "<div>\n",
       "<style scoped>\n",
       "    .dataframe tbody tr th:only-of-type {\n",
       "        vertical-align: middle;\n",
       "    }\n",
       "\n",
       "    .dataframe tbody tr th {\n",
       "        vertical-align: top;\n",
       "    }\n",
       "\n",
       "    .dataframe thead th {\n",
       "        text-align: right;\n",
       "    }\n",
       "</style>\n",
       "<table border=\"1\" class=\"dataframe\">\n",
       "  <thead>\n",
       "    <tr style=\"text-align: right;\">\n",
       "      <th></th>\n",
       "      <th>PRODUCT</th>\n",
       "      <th>DRAW NUMBER</th>\n",
       "      <th>SEQUENCE NUMBER</th>\n",
       "      <th>DRAW DATE</th>\n",
       "      <th>NUMBER DRAWN 1</th>\n",
       "      <th>NUMBER DRAWN 2</th>\n",
       "      <th>NUMBER DRAWN 3</th>\n",
       "      <th>NUMBER DRAWN 4</th>\n",
       "      <th>NUMBER DRAWN 5</th>\n",
       "      <th>NUMBER DRAWN 6</th>\n",
       "      <th>BONUS NUMBER</th>\n",
       "    </tr>\n",
       "  </thead>\n",
       "  <tbody>\n",
       "    <tr>\n",
       "      <th>0</th>\n",
       "      <td>649</td>\n",
       "      <td>1</td>\n",
       "      <td>0</td>\n",
       "      <td>6/12/1982</td>\n",
       "      <td>3</td>\n",
       "      <td>11</td>\n",
       "      <td>12</td>\n",
       "      <td>14</td>\n",
       "      <td>41</td>\n",
       "      <td>43</td>\n",
       "      <td>13</td>\n",
       "    </tr>\n",
       "    <tr>\n",
       "      <th>1</th>\n",
       "      <td>649</td>\n",
       "      <td>2</td>\n",
       "      <td>0</td>\n",
       "      <td>6/19/1982</td>\n",
       "      <td>8</td>\n",
       "      <td>33</td>\n",
       "      <td>36</td>\n",
       "      <td>37</td>\n",
       "      <td>39</td>\n",
       "      <td>41</td>\n",
       "      <td>9</td>\n",
       "    </tr>\n",
       "    <tr>\n",
       "      <th>2</th>\n",
       "      <td>649</td>\n",
       "      <td>3</td>\n",
       "      <td>0</td>\n",
       "      <td>6/26/1982</td>\n",
       "      <td>1</td>\n",
       "      <td>6</td>\n",
       "      <td>23</td>\n",
       "      <td>24</td>\n",
       "      <td>27</td>\n",
       "      <td>39</td>\n",
       "      <td>34</td>\n",
       "    </tr>\n",
       "    <tr>\n",
       "      <th>3662</th>\n",
       "      <td>649</td>\n",
       "      <td>3589</td>\n",
       "      <td>0</td>\n",
       "      <td>6/13/2018</td>\n",
       "      <td>6</td>\n",
       "      <td>22</td>\n",
       "      <td>24</td>\n",
       "      <td>31</td>\n",
       "      <td>32</td>\n",
       "      <td>34</td>\n",
       "      <td>16</td>\n",
       "    </tr>\n",
       "    <tr>\n",
       "      <th>3663</th>\n",
       "      <td>649</td>\n",
       "      <td>3590</td>\n",
       "      <td>0</td>\n",
       "      <td>6/16/2018</td>\n",
       "      <td>2</td>\n",
       "      <td>15</td>\n",
       "      <td>21</td>\n",
       "      <td>31</td>\n",
       "      <td>38</td>\n",
       "      <td>49</td>\n",
       "      <td>8</td>\n",
       "    </tr>\n",
       "    <tr>\n",
       "      <th>3664</th>\n",
       "      <td>649</td>\n",
       "      <td>3591</td>\n",
       "      <td>0</td>\n",
       "      <td>6/20/2018</td>\n",
       "      <td>14</td>\n",
       "      <td>24</td>\n",
       "      <td>31</td>\n",
       "      <td>35</td>\n",
       "      <td>37</td>\n",
       "      <td>48</td>\n",
       "      <td>17</td>\n",
       "    </tr>\n",
       "  </tbody>\n",
       "</table>\n",
       "</div>"
      ],
      "text/plain": [
       "      PRODUCT  DRAW NUMBER  SEQUENCE NUMBER  DRAW DATE  NUMBER DRAWN 1  \\\n",
       "0         649            1                0  6/12/1982               3   \n",
       "1         649            2                0  6/19/1982               8   \n",
       "2         649            3                0  6/26/1982               1   \n",
       "3662      649         3589                0  6/13/2018               6   \n",
       "3663      649         3590                0  6/16/2018               2   \n",
       "3664      649         3591                0  6/20/2018              14   \n",
       "\n",
       "      NUMBER DRAWN 2  NUMBER DRAWN 3  NUMBER DRAWN 4  NUMBER DRAWN 5  \\\n",
       "0                 11              12              14              41   \n",
       "1                 33              36              37              39   \n",
       "2                  6              23              24              27   \n",
       "3662              22              24              31              32   \n",
       "3663              15              21              31              38   \n",
       "3664              24              31              35              37   \n",
       "\n",
       "      NUMBER DRAWN 6  BONUS NUMBER  \n",
       "0                 43            13  \n",
       "1                 41             9  \n",
       "2                 39            34  \n",
       "3662              34            16  \n",
       "3663              49             8  \n",
       "3664              48            17  "
      ]
     },
     "execution_count": 5,
     "metadata": {},
     "output_type": "execute_result"
    }
   ],
   "source": [
    "# Display the first and last three rows of the dataset\n",
    "pd.concat([lotto_hist.head(3), lotto_hist.tail(3)])"
   ]
  },
  {
   "cell_type": "markdown",
   "metadata": {},
   "source": [
    "We can find the six numbers drawn in the following six columns:\n",
    "* `NUMBER DRAWN 1`\n",
    "* `NUMBER DRAWN 2`\n",
    "* `NUMBER DRAWN 3`\n",
    "* `NUMBER DRAWN 4`\n",
    "* `NUMBER DRAWN 5`\n",
    "* `NUMBER DRAWN 6`\n",
    "\n",
    "## Comparing user lottery tickets against historical lottery data\n",
    "\n",
    "We'll write a function, `check_historical_occurence()` , that will enable users to compare their ticket against the historical lottery data in Canada and determine whether they would have ever won by now.\n",
    "\n",
    "The engineering team wants us to write a function that prints:\n",
    "* The number of times the combination selected occurred in the Canada data set.\n",
    "* The probability of winning the big prize in the next drawing with that combination.\n",
    "\n",
    "First, we'll write a function, `extract_numbers()`, to extract all the winning numbers from the dataset."
   ]
  },
  {
   "cell_type": "code",
   "execution_count": 6,
   "metadata": {
    "collapsed": false,
    "scrolled": true
   },
   "outputs": [
    {
     "data": {
      "text/plain": [
       "0    {3, 41, 11, 12, 43, 14}\n",
       "1    {33, 36, 37, 39, 8, 41}\n",
       "2     {1, 6, 39, 23, 24, 27}\n",
       "3     {3, 9, 10, 43, 13, 20}\n",
       "4    {34, 5, 14, 47, 21, 31}\n",
       "dtype: object"
      ]
     },
     "execution_count": 6,
     "metadata": {},
     "output_type": "execute_result"
    }
   ],
   "source": [
    "# Function to extract the six winning lottery numbers from a row of the lottery dataframe\n",
    "def extract_numbers(row):\n",
    "    numbers = row[4:10]\n",
    "    numbers = set(numbers.values)\n",
    "    return numbers\n",
    "\n",
    "# Apply the new function to the dataset and display the first few results\n",
    "winning_numbers = lotto_hist.apply(extract_numbers, axis=1)\n",
    "winning_numbers.head()"
   ]
  },
  {
   "cell_type": "markdown",
   "metadata": {},
   "source": [
    "Now we'll write the `check_historical_occurence()` function next, which will print information on how many times the user's numbers have occurred and on the probability of winning."
   ]
  },
  {
   "cell_type": "code",
   "execution_count": 7,
   "metadata": {
    "collapsed": false,
    "scrolled": false
   },
   "outputs": [
    {
     "name": "stdout",
     "output_type": "stream",
     "text": [
      "'Your lottery numbers, {32, 7, 11, 49, 20, 24}, have never been drawn in the past.\n",
      "You have a 0.0000072% chance to win the big prize.\n",
      "In other words, you have a 1 in 13,983,816 chance to win.\n",
      "\n",
      "\n",
      "'The number of times your lottery numbers, {34, 5, 14, 47, 21, 31}, have occured in the past is 1.\n",
      "You have a 0.0000072% chance to win the big prize.\n",
      "In other words, you have a 1 in 13,983,816 chance to win.\n"
     ]
    }
   ],
   "source": [
    "# Function to compare user lottery numbers to past winning lottery numbers and print info about the probability of winning\n",
    "def check_historical_occurrence(user_numbers, historical_numbers):\n",
    "    # user_numbers: a list\n",
    "    # historical_numbers: a series\n",
    "    user_numbers = set(user_numbers)\n",
    "    check_occurrences = user_numbers == historical_numbers\n",
    "    n_occurrences = check_occurrences.sum()\n",
    "    \n",
    "    if n_occurrences == 0:\n",
    "        print(''''Your lottery numbers, {}, have never been drawn in the past.\n",
    "You have a 0.0000072% chance to win the big prize.\n",
    "In other words, you have a 1 in 13,983,816 chance to win.'''.format(user_numbers))\n",
    "    else:\n",
    "        print(''''The number of times your lottery numbers, {}, have occured in the past is {}.\n",
    "You have a 0.0000072% chance to win the big prize.\n",
    "In other words, you have a 1 in 13,983,816 chance to win.'''.format(user_numbers, n_occurrences))\n",
    "\n",
    "# Test runs\n",
    "test_4 = [7, 24, 11, 32, 49, 20]\n",
    "test_5 = [34, 5, 14, 47, 21, 31]\n",
    "\n",
    "check_historical_occurrence(test_4, winning_numbers)\n",
    "print('\\n')\n",
    "check_historical_occurrence(test_5, winning_numbers)"
   ]
  },
  {
   "cell_type": "markdown",
   "metadata": {},
   "source": [
    "## Multi-ticket winning probability\n",
    "\n",
    "Lottery addicts usually play more than one ticket on a single drawing, thinking that this might increase their chances of winning significantly. Our purpose is to help them better estimate their chances of winning — we're going to write a function, `multi_ticket_probability()`, that will allow the users to calculate the chances of winning for any number of different tickets."
   ]
  },
  {
   "cell_type": "code",
   "execution_count": 8,
   "metadata": {
    "collapsed": false,
    "scrolled": false
   },
   "outputs": [
    {
     "name": "stdout",
     "output_type": "stream",
     "text": [
      "If you buy 1 lottery ticket, you have a 0.0000072% chance to win the big prize.\n",
      "In other words, you have a 1 in 13,983,816 chance to win.\n",
      "\n",
      "\n",
      "If you buy 10 lottery tickets, you have a 0.0000715% chance to win the big prize.\n",
      "In other words, you have a 1 in 1,398,382 chance to win.\n",
      "\n",
      "\n",
      "If you buy 100 lottery tickets, you have a 0.0007151% chance to win the big prize.\n",
      "In other words, you have a 1 in 139,838 chance to win.\n",
      "\n",
      "\n",
      "If you buy 10000 lottery tickets, you have a 0.0715112% chance to win the big prize.\n",
      "In other words, you have a 1 in 1,398 chance to win.\n",
      "\n",
      "\n",
      "If you buy 1000000 lottery tickets, you have a 7.1511238% chance to win the big prize.\n",
      "In other words, you have a 1 in 14 chance to win.\n",
      "\n",
      "\n",
      "If you buy 13983816 lottery tickets, you have a 100.0000000% chance to win the big prize.\n",
      "In other words, you have a 1 in 1 chance to win.\n",
      "\n",
      "\n"
     ]
    }
   ],
   "source": [
    "# Function that calculates the probability of winning the lottery given an n number of tickets\n",
    "def multi_ticket_probability(n_tickets):\n",
    "    total_combos = int(combinations(49,6))\n",
    "    percentage = n_tickets / total_combos * 100\n",
    "    if n_tickets == 1:\n",
    "        print('''If you buy 1 lottery ticket, you have a {:.7f}% chance to win the big prize.\n",
    "In other words, you have a 1 in {:,} chance to win.'''.format(percentage, total_combos))\n",
    "    else:\n",
    "        combo_simple = round(total_combos  / n_tickets)\n",
    "        print('''If you buy {} lottery tickets, you have a {:.7f}% chance to win the big prize.\n",
    "In other words, you have a 1 in {:,} chance to win.'''.format(n_tickets, percentage, combo_simple))\n",
    "              \n",
    "# Test runs\n",
    "test_inputs = [1, 10, 100, 10000, 1000000, 13983816]\n",
    "\n",
    "for test in test_inputs:\n",
    "    multi_ticket_probability(test)\n",
    "    print('\\n')"
   ]
  },
  {
   "cell_type": "markdown",
   "metadata": {},
   "source": [
    "\n",
    "## Partial lottery number matches\n",
    "\n",
    "For extra context, in most 6/49 lotteries there are smaller prizes if a player's ticket match two, three, four, or five of the six numbers drawn. As a consequence, the users might be interested in knowing the probability of having two, three, four, or five winning numbers.\n",
    "\n",
    "These are the engineering details we'll need to be aware of:\n",
    "* Inside the app, the user inputs:\n",
    "    * Six different numbers from 1 to 49; and\n",
    "    * An integer between 2 and 5 that represents the number of winning numbers expected.\n",
    "\n",
    "Our function, `probability_less_6()`, will print information about the the probability of having the inputted number of winning numbers."
   ]
  },
  {
   "cell_type": "code",
   "execution_count": 9,
   "metadata": {
    "collapsed": false,
    "scrolled": false
   },
   "outputs": [
    {
     "name": "stdout",
     "output_type": "stream",
     "text": [
      "Your chances of having 2 winning numbers on your ticket is 13.2378029%.\n",
      "In other words, you have a 1 in 8 chance to win.\n",
      "\n",
      "\n",
      "Your chances of having 3 winning numbers on your ticket is 1.7650404%.\n",
      "In other words, you have a 1 in 57 chance to win.\n",
      "\n",
      "\n",
      "Your chances of having 4 winning numbers on your ticket is 0.0968620%.\n",
      "In other words, you have a 1 in 1,032 chance to win.\n",
      "\n",
      "\n",
      "Your chances of having 5 winning numbers on your ticket is 0.0018450%.\n",
      "In other words, you have a 1 in 54,201 chance to win.\n",
      "\n",
      "\n"
     ]
    }
   ],
   "source": [
    "# Function to calculate probability of matching n numbers on any given ticket\n",
    "def probability_less_6(n_matches):\n",
    "    total_outcomes = int(combinations(49, 6))\n",
    "    n_number_combinations = combinations(6, n_matches)\n",
    "    \n",
    "    outcomes_per_combo = combinations(43, 6 - n_matches)\n",
    "    successful_outcomes = n_number_combinations * outcomes_per_combo\n",
    "    \n",
    "    percentage =  successful_outcomes * 100 / total_outcomes\n",
    "    combo_simple = round(total_outcomes / successful_outcomes)\n",
    "    print('''Your chances of having {} winning numbers on your ticket is {:.7f}%.\n",
    "In other words, you have a 1 in {:,} chance to win.'''.format(n_matches, percentage, combo_simple))\n",
    "    \n",
    "# Test runs\n",
    "test_inputs = [2, 3, 4, 5]\n",
    "for test in test_inputs:\n",
    "    probability_less_6(test)\n",
    "    print('\\n')"
   ]
  },
  {
   "cell_type": "markdown",
   "metadata": {},
   "source": [
    "These outputs answer the question: \"What is the probability of having **exactly** n winning numbers?\"\n",
    "\n",
    "But what about the probability for having **at least** n winning numbers? We'll write a separate function below."
   ]
  },
  {
   "cell_type": "code",
   "execution_count": 11,
   "metadata": {
    "collapsed": false,
    "scrolled": true
   },
   "outputs": [
    {
     "name": "stdout",
     "output_type": "stream",
     "text": [
      "Your chances of having at least 2 winning numbers on your ticket is 15.1015574%.\n",
      "In other words, you have a 1 in 7 chance to win.\n",
      "\n",
      "\n",
      "Your chances of having at least 3 winning numbers on your ticket is 1.8637545%.\n",
      "In other words, you have a 1 in 54 chance to win.\n",
      "\n",
      "\n",
      "Your chances of having at least 4 winning numbers on your ticket is 0.0987141%.\n",
      "In other words, you have a 1 in 1,013 chance to win.\n",
      "\n",
      "\n",
      "Your chances of having at least 5 winning numbers on your ticket is 0.0018521%.\n",
      "In other words, you have a 1 in 53,992 chance to win.\n",
      "\n",
      "\n"
     ]
    }
   ],
   "source": [
    "def probability_less_6_atleast(n_matches):\n",
    "    total_outcomes = int(combinations(49, 6))\n",
    "\n",
    "    successful_outcomes = 0   \n",
    "    for i in range(n_matches, 7):\n",
    "        n_number_combinations = combinations(6, i)\n",
    "        outcomes_per_combo = combinations(43, 6 - i)\n",
    "        successful_outcomes += n_number_combinations * outcomes_per_combo\n",
    "    \n",
    "    percentage =  successful_outcomes * 100 / total_outcomes\n",
    "    combo_simple = round(total_outcomes / successful_outcomes)\n",
    "    \n",
    "    print('''Your chances of having at least {} winning numbers on your ticket is {:.7f}%.\n",
    "In other words, you have a 1 in {:,} chance to win.'''.format(n_matches, percentage, combo_simple))\n",
    "    \n",
    "# Test runs\n",
    "test_inputs = [2, 3, 4, 5]\n",
    "for test in test_inputs:\n",
    "    probability_less_6_atleast(test)\n",
    "    print('\\n')"
   ]
  },
  {
   "cell_type": "markdown",
   "metadata": {},
   "source": [
    "## Conclusion\n",
    "\n",
    "We created five functions for the first version of a gambling addiction app:\n",
    "* `one_ticket_probability()` — calculates the probability of winning the big prize with a single ticket.\n",
    "* `check_historical_occurrence()` — checks whether a certain combination has occurred in the Canada lottery data set.\n",
    "* `multi_ticket_probability()` — calculates the probability for any number of of tickets between 1 and 13,983,816.\n",
    "* `probability_less_6()` — calculates the probability of having two, three, four or five winning numbers.\n",
    "* `probability_less_6_atleast()` — calculates the probability of having *at least* two, three, four or five winning numbers.\n",
    "\n",
    "We hope this app will help combat gambling addiction by sharing eye-opening probabilities.\n",
    "\n",
    "## Next steps\n",
    "\n",
    "Possible features for a second version of the app include:\n",
    "* Making the outputs even easier to understand by adding fun analogies (for example, we can find probabilities for strange events and compare with the chances of winning in lottery; for instance, we can output something along the lines \"You are 100 times more likely to be the victim of a shark attack than winning the lottery\").\n",
    "* Combining `one_ticket_probability()` and `check_historical_occurrence()` functions to output information on probability and historical occurrence at the same time.\n",
    "* Begin adding information/probabilities for other lottery formats and gambling games."
   ]
  }
 ],
 "metadata": {
  "kernelspec": {
   "display_name": "Python 3",
   "language": "python",
   "name": "python3"
  },
  "language_info": {
   "codemirror_mode": {
    "name": "ipython",
    "version": 3
   },
   "file_extension": ".py",
   "mimetype": "text/x-python",
   "name": "python",
   "nbconvert_exporter": "python",
   "pygments_lexer": "ipython3",
   "version": "3.4.3"
  }
 },
 "nbformat": 4,
 "nbformat_minor": 2
}
