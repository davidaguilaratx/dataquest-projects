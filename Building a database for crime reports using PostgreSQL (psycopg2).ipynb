{
 "cells": [
  {
   "cell_type": "markdown",
   "metadata": {},
   "source": [
    "# Building a Database for Crime Reports Using PostgreSQL (psycopg2)\n",
    "\n",
    "In this project, we'll be building a database for storing data related with crimes that occurred in Boston. This dataset is available in the file `boston.csv`.\n",
    "\n",
    "The goal of this project is to create a database named `crimes_db` with a table – `boston_crimes` – with appropriate datatypes for storing the data from the `boston.csv` file. We'll be creating the table inside a schema named `crimes` and will also create two user groups:\n",
    "\n",
    "* `readonly`: permission to read data only\n",
    "* `readwrite` permission to read and alter data only\n",
    "\n",
    "Finally, we'll also need to create one user for each of these groups."
   ]
  },
  {
   "cell_type": "code",
   "execution_count": 1,
   "metadata": {
    "collapsed": false
   },
   "outputs": [],
   "source": [
    "# Import libraries we'll use\n",
    "import psycopg2\n",
    "import pandas as pd\n",
    "import numpy as np\n",
    "import csv\n",
    "import matplotlib.pyplot as plt\n",
    "import seaborn as sns\n",
    "\n",
    "# Show graphs in notebook\n",
    "%matplotlib inline\n",
    "\n",
    "# Graph formatting\n",
    "sns.set(style='white', context='talk')\n",
    "plt.style.use('dark_background')"
   ]
  },
  {
   "cell_type": "markdown",
   "metadata": {},
   "source": [
    "## 1. Creating the database and schema\n",
    "\n",
    "We will start by creating a database for storing our crime data as well as a schema for containing the tables."
   ]
  },
  {
   "cell_type": "code",
   "execution_count": 2,
   "metadata": {
    "collapsed": false
   },
   "outputs": [
    {
     "ename": "ProgrammingError",
     "evalue": "database \"crime_db\" already exists\n",
     "output_type": "error",
     "traceback": [
      "\u001b[1;31m\u001b[0m",
      "\u001b[1;31mProgrammingError\u001b[0mTraceback (most recent call last)",
      "\u001b[1;32m<ipython-input-2-c4f16500518a>\u001b[0m in \u001b[0;36m<module>\u001b[1;34m()\u001b[0m\n\u001b[0;32m      4\u001b[0m \u001b[0mconn\u001b[0m\u001b[1;33m.\u001b[0m\u001b[0mautocommit\u001b[0m \u001b[1;33m=\u001b[0m \u001b[1;32mTrue\u001b[0m\u001b[1;33m\u001b[0m\u001b[0m\n\u001b[0;32m      5\u001b[0m \u001b[1;33m\u001b[0m\u001b[0m\n\u001b[1;32m----> 6\u001b[1;33m \u001b[0mcur\u001b[0m\u001b[1;33m.\u001b[0m\u001b[0mexecute\u001b[0m\u001b[1;33m(\u001b[0m\u001b[1;34m'CREATE DATABASE crime_db;'\u001b[0m\u001b[1;33m)\u001b[0m\u001b[1;33m\u001b[0m\u001b[0m\n\u001b[0m\u001b[0;32m      7\u001b[0m \u001b[0mconn\u001b[0m\u001b[1;33m.\u001b[0m\u001b[0mautocommit\u001b[0m \u001b[1;33m=\u001b[0m \u001b[1;32mFalse\u001b[0m\u001b[1;33m\u001b[0m\u001b[0m\n\u001b[0;32m      8\u001b[0m \u001b[0mconn\u001b[0m\u001b[1;33m.\u001b[0m\u001b[0mclose\u001b[0m\u001b[1;33m(\u001b[0m\u001b[1;33m)\u001b[0m\u001b[1;33m\u001b[0m\u001b[0m\n",
      "\u001b[1;31mProgrammingError\u001b[0m: database \"crime_db\" already exists\n"
     ]
    }
   ],
   "source": [
    "# Create the database, crime_db\n",
    "conn = psycopg2.connect('dbname=dq user=dq')\n",
    "cur = conn.cursor()\n",
    "conn.autocommit = True\n",
    "\n",
    "cur.execute('CREATE DATABASE crime_db;')\n",
    "conn.autocommit = False\n",
    "conn.close()"
   ]
  },
  {
   "cell_type": "code",
   "execution_count": 3,
   "metadata": {
    "collapsed": true
   },
   "outputs": [],
   "source": [
    "# Connect to the new database, crime_db, and create schema called crimes.\n",
    "conn = psycopg2.connect('dbname=crime_db user=dq')\n",
    "cur = conn.cursor()\n",
    "\n",
    "cur.execute(\"CREATE SCHEMA crimes;\")"
   ]
  },
  {
   "cell_type": "markdown",
   "metadata": {},
   "source": [
    "## 2. Exploring the dataset\n",
    "We now have a database and a schema — we are ready to start creating tables.\n",
    "\n",
    "Before we do that, we'll gather some data about our crime dataset so that we can more easily select the right datatypes to use in our table."
   ]
  },
  {
   "cell_type": "code",
   "execution_count": 4,
   "metadata": {
    "collapsed": false,
    "scrolled": false
   },
   "outputs": [
    {
     "name": "stdout",
     "output_type": "stream",
     "text": [
      "<class 'pandas.core.frame.DataFrame'>\n",
      "RangeIndex: 298329 entries, 0 to 298328\n",
      "Data columns (total 7 columns):\n",
      "incident_number    298329 non-null int64\n",
      "offense_code       298329 non-null int64\n",
      "description        298329 non-null object\n",
      "date               298329 non-null object\n",
      "day_of_the_week    298329 non-null object\n",
      "lat                298329 non-null float64\n",
      "long               298329 non-null float64\n",
      "dtypes: float64(2), int64(2), object(3)\n",
      "memory usage: 15.9+ MB\n"
     ]
    },
    {
     "data": {
      "text/html": [
       "<div>\n",
       "<style scoped>\n",
       "    .dataframe tbody tr th:only-of-type {\n",
       "        vertical-align: middle;\n",
       "    }\n",
       "\n",
       "    .dataframe tbody tr th {\n",
       "        vertical-align: top;\n",
       "    }\n",
       "\n",
       "    .dataframe thead th {\n",
       "        text-align: right;\n",
       "    }\n",
       "</style>\n",
       "<table border=\"1\" class=\"dataframe\">\n",
       "  <thead>\n",
       "    <tr style=\"text-align: right;\">\n",
       "      <th></th>\n",
       "      <th>incident_number</th>\n",
       "      <th>offense_code</th>\n",
       "      <th>description</th>\n",
       "      <th>date</th>\n",
       "      <th>day_of_the_week</th>\n",
       "      <th>lat</th>\n",
       "      <th>long</th>\n",
       "    </tr>\n",
       "  </thead>\n",
       "  <tbody>\n",
       "    <tr>\n",
       "      <th>0</th>\n",
       "      <td>1</td>\n",
       "      <td>619</td>\n",
       "      <td>LARCENY ALL OTHERS</td>\n",
       "      <td>2018-09-02</td>\n",
       "      <td>Sunday</td>\n",
       "      <td>42.357791</td>\n",
       "      <td>-71.139371</td>\n",
       "    </tr>\n",
       "    <tr>\n",
       "      <th>1</th>\n",
       "      <td>2</td>\n",
       "      <td>1402</td>\n",
       "      <td>VANDALISM</td>\n",
       "      <td>2018-08-21</td>\n",
       "      <td>Tuesday</td>\n",
       "      <td>42.306821</td>\n",
       "      <td>-71.060300</td>\n",
       "    </tr>\n",
       "    <tr>\n",
       "      <th>2</th>\n",
       "      <td>3</td>\n",
       "      <td>3410</td>\n",
       "      <td>TOWED MOTOR VEHICLE</td>\n",
       "      <td>2018-09-03</td>\n",
       "      <td>Monday</td>\n",
       "      <td>42.346589</td>\n",
       "      <td>-71.072429</td>\n",
       "    </tr>\n",
       "    <tr>\n",
       "      <th>3</th>\n",
       "      <td>4</td>\n",
       "      <td>3114</td>\n",
       "      <td>INVESTIGATE PROPERTY</td>\n",
       "      <td>2018-09-03</td>\n",
       "      <td>Monday</td>\n",
       "      <td>42.334182</td>\n",
       "      <td>-71.078664</td>\n",
       "    </tr>\n",
       "    <tr>\n",
       "      <th>4</th>\n",
       "      <td>5</td>\n",
       "      <td>3114</td>\n",
       "      <td>INVESTIGATE PROPERTY</td>\n",
       "      <td>2018-09-03</td>\n",
       "      <td>Monday</td>\n",
       "      <td>42.275365</td>\n",
       "      <td>-71.090361</td>\n",
       "    </tr>\n",
       "  </tbody>\n",
       "</table>\n",
       "</div>"
      ],
      "text/plain": [
       "   incident_number  offense_code           description        date  \\\n",
       "0                1           619    LARCENY ALL OTHERS  2018-09-02   \n",
       "1                2          1402             VANDALISM  2018-08-21   \n",
       "2                3          3410   TOWED MOTOR VEHICLE  2018-09-03   \n",
       "3                4          3114  INVESTIGATE PROPERTY  2018-09-03   \n",
       "4                5          3114  INVESTIGATE PROPERTY  2018-09-03   \n",
       "\n",
       "  day_of_the_week        lat       long  \n",
       "0          Sunday  42.357791 -71.139371  \n",
       "1         Tuesday  42.306821 -71.060300  \n",
       "2          Monday  42.346589 -71.072429  \n",
       "3          Monday  42.334182 -71.078664  \n",
       "4          Monday  42.275365 -71.090361  "
      ]
     },
     "execution_count": 4,
     "metadata": {},
     "output_type": "execute_result"
    }
   ],
   "source": [
    "# Read in the data and explore the first few rows\n",
    "boston = pd.read_csv('boston.csv')\n",
    "boston.info()\n",
    "boston.head()"
   ]
  },
  {
   "cell_type": "code",
   "execution_count": 5,
   "metadata": {
    "collapsed": false,
    "scrolled": true
   },
   "outputs": [
    {
     "data": {
      "text/html": [
       "<div>\n",
       "<style scoped>\n",
       "    .dataframe tbody tr th:only-of-type {\n",
       "        vertical-align: middle;\n",
       "    }\n",
       "\n",
       "    .dataframe tbody tr th {\n",
       "        vertical-align: top;\n",
       "    }\n",
       "\n",
       "    .dataframe thead th {\n",
       "        text-align: right;\n",
       "    }\n",
       "</style>\n",
       "<table border=\"1\" class=\"dataframe\">\n",
       "  <thead>\n",
       "    <tr style=\"text-align: right;\">\n",
       "      <th></th>\n",
       "      <th>incident_number</th>\n",
       "      <th>offense_code</th>\n",
       "      <th>lat</th>\n",
       "      <th>long</th>\n",
       "    </tr>\n",
       "  </thead>\n",
       "  <tbody>\n",
       "    <tr>\n",
       "      <th>count</th>\n",
       "      <td>298329.000000</td>\n",
       "      <td>298329.000000</td>\n",
       "      <td>298329.000000</td>\n",
       "      <td>298329.000000</td>\n",
       "    </tr>\n",
       "    <tr>\n",
       "      <th>mean</th>\n",
       "      <td>149165.000000</td>\n",
       "      <td>2296.293143</td>\n",
       "      <td>42.322298</td>\n",
       "      <td>-71.082850</td>\n",
       "    </tr>\n",
       "    <tr>\n",
       "      <th>std</th>\n",
       "      <td>86120.308566</td>\n",
       "      <td>1183.110778</td>\n",
       "      <td>0.031881</td>\n",
       "      <td>0.029771</td>\n",
       "    </tr>\n",
       "    <tr>\n",
       "      <th>min</th>\n",
       "      <td>1.000000</td>\n",
       "      <td>111.000000</td>\n",
       "      <td>42.232413</td>\n",
       "      <td>-71.178674</td>\n",
       "    </tr>\n",
       "    <tr>\n",
       "      <th>25%</th>\n",
       "      <td>74583.000000</td>\n",
       "      <td>802.000000</td>\n",
       "      <td>42.297555</td>\n",
       "      <td>-71.097193</td>\n",
       "    </tr>\n",
       "    <tr>\n",
       "      <th>50%</th>\n",
       "      <td>149165.000000</td>\n",
       "      <td>2907.000000</td>\n",
       "      <td>42.325610</td>\n",
       "      <td>-71.077562</td>\n",
       "    </tr>\n",
       "    <tr>\n",
       "      <th>75%</th>\n",
       "      <td>223747.000000</td>\n",
       "      <td>3201.000000</td>\n",
       "      <td>42.348624</td>\n",
       "      <td>-71.062563</td>\n",
       "    </tr>\n",
       "    <tr>\n",
       "      <th>max</th>\n",
       "      <td>298329.000000</td>\n",
       "      <td>3831.000000</td>\n",
       "      <td>42.395042</td>\n",
       "      <td>-70.963676</td>\n",
       "    </tr>\n",
       "  </tbody>\n",
       "</table>\n",
       "</div>"
      ],
      "text/plain": [
       "       incident_number   offense_code            lat           long\n",
       "count    298329.000000  298329.000000  298329.000000  298329.000000\n",
       "mean     149165.000000    2296.293143      42.322298     -71.082850\n",
       "std       86120.308566    1183.110778       0.031881       0.029771\n",
       "min           1.000000     111.000000      42.232413     -71.178674\n",
       "25%       74583.000000     802.000000      42.297555     -71.097193\n",
       "50%      149165.000000    2907.000000      42.325610     -71.077562\n",
       "75%      223747.000000    3201.000000      42.348624     -71.062563\n",
       "max      298329.000000    3831.000000      42.395042     -70.963676"
      ]
     },
     "execution_count": 5,
     "metadata": {},
     "output_type": "execute_result"
    }
   ],
   "source": [
    "# Basic statistics of the numerical columns\n",
    "boston.describe()"
   ]
  },
  {
   "cell_type": "markdown",
   "metadata": {},
   "source": [
    "Given their max valyes, we can set the `incident_number` column to the `INTEGER` datatype and the `offense_code` column to the `INT2` datatype. `SMALLINT`/`INT2` is a 2 byte integer that appropriate when only requiring a small range of integers.\n",
    "\n",
    "We'll set the `lat` and `lon` columns to the `DECIMAL` datatype."
   ]
  },
  {
   "cell_type": "code",
   "execution_count": 6,
   "metadata": {
    "collapsed": false
   },
   "outputs": [
    {
     "name": "stdout",
     "output_type": "stream",
     "text": [
      "['incident_number', 'offense_code', 'description', 'date', 'day_of_the_week', 'lat', 'long']\n",
      "['1', '619', 'LARCENY ALL OTHERS', '2018-09-02', 'Sunday', '42.35779134', '-71.13937053']\n"
     ]
    }
   ],
   "source": [
    "# Save the header, first row, and dataset as lists\n",
    "with open('boston.csv') as file:\n",
    "    reader = csv.reader(file)\n",
    "    rows = list(reader)\n",
    "    col_headers = rows[0]\n",
    "    first_row = rows[1]\n",
    "    crime_data = rows[1:]\n",
    "    \n",
    "print(col_headers)\n",
    "print(first_row)"
   ]
  },
  {
   "cell_type": "markdown",
   "metadata": {},
   "source": [
    "### 2.1 Distinct values in columns\n",
    "\n",
    "Before we create a table for storing the crime data, we need to identify the proper datatypes for the columns. We begin to do this by identifiying the number of unique values in each column. This will be useful for checking whether an enumerated datatype might be a good choice for representing a column."
   ]
  },
  {
   "cell_type": "code",
   "execution_count": 7,
   "metadata": {
    "collapsed": false,
    "scrolled": true
   },
   "outputs": [
    {
     "data": {
      "text/plain": [
       "{'date': 1177,\n",
       " 'day_of_the_week': 7,\n",
       " 'description': 239,\n",
       " 'incident_number': 298329,\n",
       " 'lat': 18177,\n",
       " 'long': 18177,\n",
       " 'offense_code': 219}"
      ]
     },
     "execution_count": 7,
     "metadata": {},
     "output_type": "execute_result"
    }
   ],
   "source": [
    "# Calculate the number of unique calues for each column\n",
    "values_per_col = {}\n",
    "for col in boston.columns:\n",
    "    values_per_col[col] = len(boston[col].unique())\n",
    "values_per_col"
   ]
  },
  {
   "cell_type": "markdown",
   "metadata": {},
   "source": [
    "The `day_of_the_week` column is a good candidate to use an enumerated datatype since there are only 7 possible values and they won't be changing any time soon. \n",
    "\n",
    "The `description` and `offense_code` columns could also be set as an enumerated datatype since they each contain just over 200 unique values and there are a limited number of laws to break. However, we'll stick to `VARCHAR` and `INTEGER` datatypes for now."
   ]
  },
  {
   "cell_type": "markdown",
   "metadata": {},
   "source": [
    "### 2.2 Max length of values in text columns\n",
    "\n",
    "Computing the maximum length of any text-like column is useful for selecting the appropriate sizes for `VARCHAR` columns.\n",
    "\n",
    "There are two textual column in the data set, namely, the `description` and `day_of_the_week` columns. However the day of the week contains only 7 values, one for each day. We can tell that the longest of them is \"Wednesday\" without needing any computation.\n",
    "\n",
    "Let's compute the maximum length of each value in the `description` column."
   ]
  },
  {
   "cell_type": "code",
   "execution_count": 8,
   "metadata": {
    "collapsed": false
   },
   "outputs": [
    {
     "name": "stdout",
     "output_type": "stream",
     "text": [
      "58\n"
     ]
    }
   ],
   "source": [
    "# Calculate the max value length for the description text column\n",
    "description_lengths = boston['description'].apply(lambda x: len(x))\n",
    "print(max(description_lengths))"
   ]
  },
  {
   "cell_type": "markdown",
   "metadata": {},
   "source": [
    "The longest value in the `description` column is 58 characters in length. We'll limit the size of the description to 100 characters to be on the safe side and use the `VARCHAR(100)` datatype to this column. \n",
    "\n",
    "## 3. Creating enumerated datatype\n",
    "\n",
    "We'll create an enumerated datatype for the `day_of_the_Week` column since there are only 7 possible values."
   ]
  },
  {
   "cell_type": "code",
   "execution_count": 9,
   "metadata": {
    "collapsed": false,
    "scrolled": false
   },
   "outputs": [
    {
     "data": {
      "text/plain": [
       "\"'Sunday', 'Tuesday', 'Monday', 'Saturday', 'Friday', 'Wednesday', 'Thursday'\""
      ]
     },
     "execution_count": 9,
     "metadata": {},
     "output_type": "execute_result"
    }
   ],
   "source": [
    "# Turn list of weekdays into a string for easy insertion into query\n",
    "weekdays = \"'\" +  \"', '\".join(boston['day_of_the_week'].unique()) + \"'\"\n",
    "weekdays"
   ]
  },
  {
   "cell_type": "code",
   "execution_count": 10,
   "metadata": {
    "collapsed": true
   },
   "outputs": [],
   "source": [
    "# Create an enumerated datatype for the weekday column\n",
    "cur.execute(\"CREATE TYPE weekday_enum AS ENUM (\" + weekdays + \");\")"
   ]
  },
  {
   "cell_type": "markdown",
   "metadata": {},
   "source": [
    "## 4. Creating a table\n",
    "\n",
    "We'll create a table named `boston_crimes` inside the `crimes` schema of the `crime_db` database."
   ]
  },
  {
   "cell_type": "code",
   "execution_count": 11,
   "metadata": {
    "collapsed": true
   },
   "outputs": [],
   "source": [
    "# Create the boston_crimes table\n",
    "cur.execute(\"\"\"\n",
    "CREATE TABLE crimes.boston_crimes (\n",
    "    incident_number INTEGER PRIMARY KEY,\n",
    "    offense_code INT2,\n",
    "    description VARCHAR(100),\n",
    "    date DATE,\n",
    "    day_of_the_week weekday_enum,\n",
    "    lat DECIMAL,\n",
    "    long DECIMAL\n",
    "    );\n",
    "    \"\"\"\n",
    "           )"
   ]
  },
  {
   "cell_type": "markdown",
   "metadata": {},
   "source": [
    "## 5. Loading data into table\n",
    "\n",
    "Now that we have created the table, we can load the data into it."
   ]
  },
  {
   "cell_type": "code",
   "execution_count": 12,
   "metadata": {
    "collapsed": true
   },
   "outputs": [],
   "source": [
    "# Load data from boston.csv file into the boston_crimes table\n",
    "with open('boston.csv') as file:\n",
    "    cur.copy_expert(\"COPY crimes.boston_crimes FROM STDIN WITH CSV HEADER;\", file)"
   ]
  },
  {
   "cell_type": "code",
   "execution_count": 13,
   "metadata": {
    "collapsed": false
   },
   "outputs": [
    {
     "name": "stdout",
     "output_type": "stream",
     "text": [
      "(1, 619, 'LARCENY ALL OTHERS', datetime.date(2018, 9, 2), 'Sunday', Decimal('42.35779134'), Decimal('-71.13937053')) \n",
      "\n",
      "(Column(name='incident_number', type_code=23, display_size=None, internal_size=4, precision=None, scale=None, null_ok=None), Column(name='offense_code', type_code=21, display_size=None, internal_size=2, precision=None, scale=None, null_ok=None), Column(name='description', type_code=1043, display_size=None, internal_size=100, precision=None, scale=None, null_ok=None), Column(name='date', type_code=1082, display_size=None, internal_size=4, precision=None, scale=None, null_ok=None), Column(name='day_of_the_week', type_code=16473, display_size=None, internal_size=4, precision=None, scale=None, null_ok=None), Column(name='lat', type_code=1700, display_size=None, internal_size=-1, precision=65535, scale=65535, null_ok=None), Column(name='long', type_code=1700, display_size=None, internal_size=-1, precision=65535, scale=65535, null_ok=None))\n"
     ]
    }
   ],
   "source": [
    "# Confirm addition of data\n",
    "cur.execute(\"\"\"\n",
    "SELECT *\n",
    "  FROM crimes.boston_crimes\n",
    " LIMIT 3;\n",
    " \"\"\")\n",
    "\n",
    "print(cur.fetchone(), '\\n')\n",
    "print(cur.description)"
   ]
  },
  {
   "cell_type": "markdown",
   "metadata": {},
   "source": [
    "We can see that datatype of each column via the type_code value. We'll check these type_code values for consitency."
   ]
  },
  {
   "cell_type": "code",
   "execution_count": 14,
   "metadata": {
    "collapsed": false
   },
   "outputs": [
    {
     "data": {
      "text/plain": [
       "[(21, 'int2'),\n",
       " (23, 'int4'),\n",
       " (1043, 'varchar'),\n",
       " (1082, 'date'),\n",
       " (1700, 'numeric')]"
      ]
     },
     "execution_count": 14,
     "metadata": {},
     "output_type": "execute_result"
    }
   ],
   "source": [
    "# Verify assigned datatypes\n",
    "cur.execute(\"\"\"\n",
    "SELECT oid, typname\n",
    "  FROM pg_catalog.pg_type\n",
    " WHERE oid IN (23,21,1043,1082,16517,1700);\n",
    " \"\"\")\n",
    "\n",
    "cur.fetchall()"
   ]
  },
  {
   "cell_type": "markdown",
   "metadata": {},
   "source": [
    "## 6. Creating user groups\n",
    "\n",
    "Our database is starting to look good! We have created a database with a schema inside it for hold data about crimes. We selected the right datatypes for storing the data, created a table and loaded the CSV containing crimes about Boston.\n",
    "\n",
    "Now it is time to handle users. Our goal is to create the two user groups that we have learned about: `readonly` and `readwrite`. By following the least privilege principle, the first step in doing so is to make sure that there are no privileges inherited from the `public` group and on the `public` schema.\n",
    "\n",
    "Both these uses will also need the following:\n",
    "\n",
    "* Connection privileges on the `crime_db` database — otherwise, they won't be able to do anything.\n",
    "* Usage of the `crimes` schema — this is where all data will be stored. \n",
    "\n",
    "### 6.1 Eliminating inherited privileges from public group and schema"
   ]
  },
  {
   "cell_type": "code",
   "execution_count": 15,
   "metadata": {
    "collapsed": true
   },
   "outputs": [],
   "source": [
    "# Revoke all privileges on the default public schema\n",
    "cur.execute(\"REVOKE ALL ON SCHEMA public FROM public;\")\n",
    "\n",
    "# Revoke all privileges on the default public group\n",
    "cur.execute(\"REVOKE ALL ON DATABASE crime_db FROM public;\")"
   ]
  },
  {
   "cell_type": "markdown",
   "metadata": {},
   "source": [
    "### 6.2 Creating the readonly group"
   ]
  },
  {
   "cell_type": "code",
   "execution_count": 16,
   "metadata": {
    "collapsed": false,
    "scrolled": true
   },
   "outputs": [],
   "source": [
    "# Create readonly group\n",
    "cur.execute(\"CREATE GROUP readonly;\")\n",
    "\n",
    "# Grant readonly privileges to readonly group\n",
    "cur.execute(\"GRANT SELECT ON ALL TABLES IN SCHEMA crimes TO readonly;\")\n",
    "\n",
    "# Grant connection privielges on the crime_db database to the readonly group\n",
    "cur.execute(\"GRANT CONNECT ON DATABASE crime_db TO readonly;\")\n",
    "\n",
    "# Grant usage of the crimes schema to the readonly group\n",
    "cur.execute(\"GRANT USAGE ON SCHEMA crimes TO readonly;\")"
   ]
  },
  {
   "cell_type": "markdown",
   "metadata": {},
   "source": [
    "### 6.3 Creating the readwrite group"
   ]
  },
  {
   "cell_type": "code",
   "execution_count": 17,
   "metadata": {
    "collapsed": false
   },
   "outputs": [],
   "source": [
    "# Create readwrite group\n",
    "cur.execute(\"CREATE GROUP readwrite;\")\n",
    "\n",
    "# Grant readwrte privileges to readwrite group\n",
    "cur.execute(\"GRANT SELECT, INSERT, UPDATE, DELETE ON ALL TABLES IN SCHEMA crimes TO readwrite;\")\n",
    "\n",
    "# Grant connection privielges on the crime_db database to the readwrite group\n",
    "cur.execute(\"GRANT CONNECT ON DATABASE crime_db TO readwrite;\")\n",
    "\n",
    "# Grant usage of the crimes schema to the readwrite group\n",
    "cur.execute(\"GRANT USAGE ON SCHEMA crimes TO readwrite;\")"
   ]
  },
  {
   "cell_type": "markdown",
   "metadata": {},
   "source": [
    "## 7. Creating users\n",
    "\n",
    "We are nearly done with setting up our crime database. The only thing that we need to do is create users.\n",
    "\n",
    "We'll wrap up the project by creating one user in each group. We'll need to create each user and then assign them to each group. "
   ]
  },
  {
   "cell_type": "code",
   "execution_count": 18,
   "metadata": {
    "collapsed": true
   },
   "outputs": [],
   "source": [
    "# Create users and assign them to appropriate\n",
    "cur.execute(\"CREATE USER data_analyst WITH PASSWORD 'secret1';\")\n",
    "cur.execute(\"GRANT readonly TO data_analyst;\")\n",
    "\n",
    "cur.execute(\"CREATE USER data_scientist WITH PASSWORD 'secret2';\")\n",
    "cur.execute(\"GRANT readwrite TO data_scientist;\")"
   ]
  },
  {
   "cell_type": "markdown",
   "metadata": {},
   "source": [
    "## 8. Testing configurations and database setup\n",
    "\n",
    "It is a good practice to test that everything is configured as expected when you finish setting up the database. \n",
    "\n",
    "We can use SQL queries to check whether the objects have been created and that users and groups have the right privileges. We can query the `pg_roles` table to inspect privileges related to the database and the `information_schema.table_privileges` table to inspect table privileges.\n",
    "\n",
    "We'll write a few tests to check that privileges are set accordingly now."
   ]
  },
  {
   "cell_type": "code",
   "execution_count": 31,
   "metadata": {
    "collapsed": false
   },
   "outputs": [
    {
     "name": "stdout",
     "output_type": "stream",
     "text": [
      "[('grantor',), ('grantee',), ('table_catalog',), ('table_schema',), ('table_name',), ('privilege_type',), ('is_grantable',), ('with_hierarchy',)] \n",
      "\n",
      "('dq', 'readonly', 'crime_db', 'crimes', 'boston_crimes', 'SELECT', 'NO', 'YES')\n",
      "('dq', 'readwrite', 'crime_db', 'crimes', 'boston_crimes', 'INSERT', 'NO', 'NO')\n",
      "('dq', 'readwrite', 'crime_db', 'crimes', 'boston_crimes', 'SELECT', 'NO', 'YES')\n",
      "('dq', 'readwrite', 'crime_db', 'crimes', 'boston_crimes', 'UPDATE', 'NO', 'NO')\n",
      "('dq', 'readwrite', 'crime_db', 'crimes', 'boston_crimes', 'DELETE', 'NO', 'NO')\n"
     ]
    }
   ],
   "source": [
    "# Get column names of table_privileges table\n",
    "cur.execute(\"\"\"\n",
    "SELECT column_name\n",
    "  FROM information_schema.columns\n",
    " WHERE table_name = 'table_privileges';\n",
    "\"\"\")\n",
    "\n",
    "print(cur.fetchall(), '\\n')\n",
    "\n",
    "# Check privileges for readony and readwrite groups\n",
    "cur.execute(\"\"\"\n",
    "SELECT *\n",
    "  FROM information_schema.table_privileges\n",
    " WHERE grantee IN ('readonly', 'readwrite');\n",
    "\"\"\")\n",
    "\n",
    "for row in cur.fetchall():\n",
    "    print(row)"
   ]
  },
  {
   "cell_type": "code",
   "execution_count": 32,
   "metadata": {
    "collapsed": false,
    "scrolled": true
   },
   "outputs": [
    {
     "name": "stdout",
     "output_type": "stream",
     "text": [
      "[('usename',), ('usesysid',), ('usecreatedb',), ('usesuper',), ('usecatupd',), ('userepl',), ('passwd',), ('valuntil',), ('useconfig',)] \n",
      "\n",
      "('dq', 10, True, True, True, True, '********', None, None)\n",
      "('data_analyst', 16497, False, False, False, False, '********', None, None)\n",
      "('data_scientist', 16498, False, False, False, False, '********', None, None)\n"
     ]
    }
   ],
   "source": [
    "# Get column names of pg_user table\n",
    "cur.execute(\"\"\"\n",
    "SELECT column_name\n",
    "  FROM information_schema.columns\n",
    " WHERE table_name = 'pg_user';\n",
    "\"\"\")\n",
    "\n",
    "print(cur.fetchall(), '\\n')\n",
    "\n",
    "# Check users privileges\n",
    "cur.execute(\"\"\"\n",
    "SELECT *\n",
    "  FROM pg_user;\n",
    "\"\"\")\n",
    "\n",
    "for row in cur.fetchall():\n",
    "    print(row)"
   ]
  },
  {
   "cell_type": "markdown",
   "metadata": {},
   "source": [
    "## Conclusion\n",
    "\n",
    "We used PostgreSQl to create a database, `crimes_db`, for storing data related to crimes commited in Boston, Massachusetts. To do so, we:\n",
    "\n",
    "1. Created the schema, `crimes` and the table, `boston_crimes` within the `crimes_db` database.\n",
    "2. Explored the data from `boston.csv` to determine appropriate datatypes\n",
    "3. Created an enumerated datatype for the `day_of_the_week` column.\n",
    "4. Added columns to the `boston_crimes` table with the appropriate datatypes and `PRIMARY KEY`.\n",
    "5. Loaded the data from `boston.csv` into the `boston_crimes` table.\n",
    "6. Created user groups `readonly` and `readwrite` while assigning the appropriate privieges.\n",
    "7. Created users `data_analyst` and `data_scientist` and assigned them to the appropriate groups.\n",
    "8. Checked that these new configurations met our expectations using PostgreSQL internal tables.\n",
    "\n",
    "### Next steps\n",
    "\n",
    "* Add more data, users, and groups with the appropriate privileges and datatypes.\n",
    "* Set up a database locally"
   ]
  }
 ],
 "metadata": {
  "kernelspec": {
   "display_name": "Python 3",
   "language": "python",
   "name": "python3"
  },
  "language_info": {
   "codemirror_mode": {
    "name": "ipython",
    "version": 3
   },
   "file_extension": ".py",
   "mimetype": "text/x-python",
   "name": "python",
   "nbconvert_exporter": "python",
   "pygments_lexer": "ipython3",
   "version": "3.4.3"
  }
 },
 "nbformat": 4,
 "nbformat_minor": 2
}
